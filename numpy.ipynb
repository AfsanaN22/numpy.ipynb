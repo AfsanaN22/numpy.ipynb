{
 "cells": [
  {
   "cell_type": "code",
   "execution_count": 1,
   "metadata": {},
   "outputs": [
    {
     "name": "stdout",
     "output_type": "stream",
     "text": [
      "hello\n"
     ]
    }
   ],
   "source": [
    "print(\"hello\")"
   ]
  },
  {
   "cell_type": "code",
   "execution_count": 1,
   "metadata": {},
   "outputs": [
    {
     "data": {
      "text/plain": [
       "30"
      ]
     },
     "execution_count": 1,
     "metadata": {},
     "output_type": "execute_result"
    }
   ],
   "source": [
    "a=10\n",
    "b=20\n",
    "a+b\n"
   ]
  },
  {
   "cell_type": "code",
   "execution_count": 5,
   "metadata": {},
   "outputs": [],
   "source": [
    "import numpy"
   ]
  },
  {
   "cell_type": "code",
   "execution_count": 4,
   "metadata": {},
   "outputs": [
    {
     "data": {
      "text/plain": [
       "array([ 1,  2, 20, 30,  5])"
      ]
     },
     "execution_count": 4,
     "metadata": {},
     "output_type": "execute_result"
    }
   ],
   "source": [
    "import numpy as np\n",
    "arr1=np.array([1,2,3,4,5])\n",
    "arr1+1\n",
    "var1=arr1*10\n",
    "var1\n",
    "arr1[2:4]\n",
    "arr1[2:4]=[20,30]\n",
    "arr1"
   ]
  },
  {
   "cell_type": "code",
   "execution_count": 2,
   "metadata": {},
   "outputs": [
    {
     "data": {
      "text/plain": [
       "(5,)"
      ]
     },
     "execution_count": 2,
     "metadata": {},
     "output_type": "execute_result"
    }
   ],
   "source": [
    "arr1.shape"
   ]
  },
  {
   "cell_type": "code",
   "execution_count": null,
   "metadata": {},
   "outputs": [],
   "source": [
    "2D array"
   ]
  },
  {
   "cell_type": "code",
   "execution_count": 32,
   "metadata": {},
   "outputs": [
    {
     "data": {
      "text/plain": [
       "array([[1, 2, 3, 4],\n",
       "       [5, 0, 0, 1],\n",
       "       [3, 0, 0, 2],\n",
       "       [3, 4, 2, 3]])"
      ]
     },
     "execution_count": 32,
     "metadata": {},
     "output_type": "execute_result"
    }
   ],
   "source": [
    "arr2=np.array([[1,2,3,4],[5,2,3,1],[3,2000,1,2],[3,4,2,3]])\n",
    "arr2.shape\n",
    "arr2.ndim\n",
    "arr2.size\n",
    "arr2.dtype\n",
    "arr2\n",
    "arr2[-2,-3]\n",
    "\n",
    "arr2\n",
    "arr2[:,2]\n",
    "arr2[1:3,1:3]=0\n",
    "arr2"
   ]
  },
  {
   "cell_type": "code",
   "execution_count": 104,
   "metadata": {},
   "outputs": [
    {
     "data": {
      "text/plain": [
       "array([[-1,  5, -1],\n",
       "       [ 4, 67,  3],\n",
       "       [19, 23,  4],\n",
       "       [78,  9,  6],\n",
       "       [ 2,  8,  4],\n",
       "       [34, 67, 45],\n",
       "       [-1, 56, -1]])"
      ]
     },
     "execution_count": 104,
     "metadata": {},
     "output_type": "execute_result"
    }
   ],
   "source": [
    "arr4=np.array([[1,5,6],[4,67,3],[19,23,4],[78,9,6],[2,8,4],[34,67,45],[3,56,22]])\n",
    "arr4\n",
    "arr4[::2]\n",
    "arr4[::2]\n",
    "arr4\n",
    "arr4[::6,::2]=-1\n",
    "arr4\n",
    "arr4[0,0]=-1\n",
    "arr4[0,2]=-1\n",
    "arr4[-1,-3]=-1\n",
    "arr4[-1,-1]=-1\n",
    "arr4\n",
    "arr4[[0,1,5],[1,1,1]]\n",
    "arr4[[0,1,5],[2,2,2]]\n",
    "arr4\n"
   ]
  },
  {
   "cell_type": "code",
   "execution_count": 103,
   "metadata": {},
   "outputs": [
    {
     "data": {
      "text/plain": [
       "array([[255, 255, 255],\n",
       "       [255, 255, 255],\n",
       "       [ 19,  23,   4],\n",
       "       [ 78,   9,   6],\n",
       "       [255, 255, 255],\n",
       "       [ 34,  67,  45],\n",
       "       [ -1,  56,  -1]])"
      ]
     },
     "execution_count": 103,
     "metadata": {},
     "output_type": "execute_result"
    }
   ],
   "source": [
    "#Access 1 st,2nd,and 5th row and change values into 255\n",
    "arr4[[0,1,4]]=255\n",
    "arr4\n"
   ]
  },
  {
   "cell_type": "code",
   "execution_count": 121,
   "metadata": {},
   "outputs": [
    {
     "data": {
      "text/plain": [
       "array([[False, False, False],\n",
       "       [False, False, False],\n",
       "       [False, False, False],\n",
       "       [False, False, False],\n",
       "       [False, False, False],\n",
       "       [False, False, False],\n",
       "       [False, False, False]])"
      ]
     },
     "execution_count": 121,
     "metadata": {},
     "output_type": "execute_result"
    }
   ],
   "source": [
    "arr4>50\n",
    "arr4[arr4>50]\n",
    "arr4%2==0\n",
    "arr4[arr4%2==0]\n",
    "arr4==0\n"
   ]
  },
  {
   "cell_type": "code",
   "execution_count": 20,
   "metadata": {},
   "outputs": [
    {
     "data": {
      "text/plain": [
       "1"
      ]
     },
     "execution_count": 20,
     "metadata": {},
     "output_type": "execute_result"
    }
   ],
   "source": [
    "import numpy as np\n",
    "arr=np.array([12,45,7,19,34,28,90,55,63])\n",
    "\n",
    "#extract all elemnts greater than 30\n",
    "arr[arr>30]\n",
    "\n",
    "#extract all odd numbers\n",
    "arr[arr%2!=0]\n",
    "\n",
    "#Replace all numbers that are multiples of 5 with -1\n",
    "arr[arr%5==0]=-1\n",
    "arr\n",
    "\n",
    "#count how many numbers are less than 50\n",
    "arr[arr>50].size"
   ]
  },
  {
   "cell_type": "code",
   "execution_count": 27,
   "metadata": {},
   "outputs": [
    {
     "data": {
      "text/plain": [
       "array([[  0,  25, 200],\n",
       "       [ 55,   0, 200],\n",
       "       [182,   0, 200]])"
      ]
     },
     "execution_count": 27,
     "metadata": {},
     "output_type": "execute_result"
    }
   ],
   "source": [
    "arr=np.array([[10,25,40],[55,18,72],[91,30,64]])\n",
    "#extract all numbers greater than 50\n",
    "arr[arr>50]\n",
    "\n",
    "#Replace all even numbers with 0\n",
    "arr[arr%2==0]=0\n",
    "arr\n",
    "#find the sum of all numbers that are divisible by 5.\n",
    "np.sum(arr[arr%5==0])\n",
    "\n",
    "#extract the last column and replace all values with 100\n",
    "arr[[0,1,2],[2,2,2]]=100\n",
    "arr\n",
    "\n",
    "#create a new array where all values greater than 60 are doubled\n",
    "arr[arr>60]*=2\n",
    "arr"
   ]
  },
  {
   "cell_type": "code",
   "execution_count": 11,
   "metadata": {},
   "outputs": [
    {
     "data": {
      "text/plain": [
       "array([[45, 67, 89],\n",
       "       [78, 90, 23],\n",
       "       [12, 34, 56]])"
      ]
     },
     "execution_count": 11,
     "metadata": {},
     "output_type": "execute_result"
    }
   ],
   "source": [
    "import numpy as np\n",
    "arr=np.array([[12,34,56],[78,90,23],[45,67,89]])\n",
    "arr\n",
    "#extract elements from the first and third row\n",
    "arr[[0,2]]\n",
    "\n",
    "#exrtract the second column from the array\n",
    "arr[[0,1,2],[1,1,1]]\n",
    "\n",
    "#extract specific elements:12,90,67 using advanced indexing\n",
    "arr[[0,1,2],[0,1,1]]\n",
    "\n",
    "#swap the first and last row of the array\n",
    "arr[[0,2]]=arr[[2,0]]\n",
    "arr\n",
    "#or \n",
    "arr1=arr[[2,1,0]]\n",
    "arr"
   ]
  },
  {
   "cell_type": "code",
   "execution_count": 30,
   "metadata": {},
   "outputs": [
    {
     "data": {
      "text/plain": [
       "array([[ -1,  -1, 100],\n",
       "       [ -1,  -1, 100],\n",
       "       [ 65,  75, 100]])"
      ]
     },
     "execution_count": 30,
     "metadata": {},
     "output_type": "execute_result"
    }
   ],
   "source": [
    "arr=np.array([[5,15,25],[35,45,55],[65,75,85]])\n",
    "arr\n",
    "\n",
    "#extract all numbers that are multiple of 5 and greater than30\n",
    "arr[(arr%5==0)&(arr>30)]\n",
    "\n",
    "#replace aall numbers less than 50 with -1\n",
    "arr[arr<50]=-1\n",
    "arr\n",
    "\n",
    "# #extract the last column and replace all values with 100\n",
    "arr[[0,1,2],[2,2,2]]=100\n",
    "arr\n",
    "\n",
    "#create a \n",
    "\n",
    "arr"
   ]
  },
  {
   "cell_type": "code",
   "execution_count": 52,
   "metadata": {},
   "outputs": [
    {
     "data": {
      "text/plain": [
       "np.int64(8)"
      ]
     },
     "execution_count": 52,
     "metadata": {},
     "output_type": "execute_result"
    }
   ],
   "source": [
    "arr=np.array([[5,15,25],[35,45,55],[65,75,85]])\n",
    "#sum\n",
    "np.sum(arr,axis=0)\n",
    "# #min\n",
    "# #max\n",
    "# #mean\n",
    "# #median\n",
    "# #std\n",
    "# #var\n",
    "# #argmax\n",
    "# #argmin\n",
    "np.min(arr)\n",
    "np.max(arr)\n",
    "np.mean(arr)\n",
    "np.median(arr)\n",
    "np.argmax(arr,axis=1)\n",
    "arr\n",
    "np.argmax(arr)\n"
   ]
  },
  {
   "cell_type": "code",
   "execution_count": 4,
   "metadata": {},
   "outputs": [
    {
     "ename": "NameError",
     "evalue": "name 'arr' is not defined",
     "output_type": "error",
     "traceback": [
      "\u001b[1;31m---------------------------------------------------------------------------\u001b[0m",
      "\u001b[1;31mNameError\u001b[0m                                 Traceback (most recent call last)",
      "Cell \u001b[1;32mIn[4], line 16\u001b[0m\n\u001b[0;32m     14\u001b[0m \u001b[38;5;66;03m#arrange \u001b[39;00m\n\u001b[0;32m     15\u001b[0m b\u001b[38;5;241m=\u001b[39mnp\u001b[38;5;241m.\u001b[39marange(\u001b[38;5;241m100\u001b[39m,\u001b[38;5;241m0\u001b[39m,\u001b[38;5;241m-\u001b[39m\u001b[38;5;241m1\u001b[39m)\n\u001b[1;32m---> 16\u001b[0m np\u001b[38;5;241m.\u001b[39mreshape(\u001b[43marr\u001b[49m,(\u001b[38;5;241m9\u001b[39m,))\n",
      "\u001b[1;31mNameError\u001b[0m: name 'arr' is not defined"
     ]
    }
   ],
   "source": [
    "#zeros\n",
    "import numpy as np\n",
    "np.zeros((10,5),dtype=int)\n",
    "\n",
    "#ones\n",
    "np.ones((5,5),dtype=int)\n",
    "\n",
    "#full\n",
    "a=np.full((5,3,),7)\n",
    "\n",
    "#full like\n",
    "np.full_like(a,1)\n",
    "\n",
    "#arrange \n",
    "b=np.arange(100,0,-1)\n",
    "np.reshape(arr,(9,))\n"
   ]
  }
 ],
 "metadata": {
  "kernelspec": {
   "display_name": "Python 3",
   "language": "python",
   "name": "python3"
  },
  "language_info": {
   "codemirror_mode": {
    "name": "ipython",
    "version": 3
   },
   "file_extension": ".py",
   "mimetype": "text/x-python",
   "name": "python",
   "nbconvert_exporter": "python",
   "pygments_lexer": "ipython3",
   "version": "3.11.2"
  }
 },
 "nbformat": 4,
 "nbformat_minor": 2
}
